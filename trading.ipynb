{
 "cells": [
  {
   "cell_type": "code",
   "execution_count": 1,
   "metadata": {},
   "outputs": [],
   "source": [
    "import pandas as pd\n",
    "import matplotlib.pyplot as plt\n",
    "import numpy as np\n",
    "import seaborn as sn\n",
    "import timeit"
   ]
  },
  {
   "cell_type": "code",
   "execution_count": 2,
   "metadata": {},
   "outputs": [],
   "source": [
    "from sklearn.linear_model import LinearRegression\n",
    "from sklearn.ensemble import RandomForestRegressor\n",
    "from sklearn.svm import SVR\n",
    "from sklearn.metrics import r2_score\n",
    "from sklearn.model_selection import train_test_split\n",
    "from sklearn.preprocessing import MinMaxScaler\n",
    "from sklearn.tree import DecisionTreeRegressor\n",
    "from sklearn.model_selection import GridSearchCV"
   ]
  },
  {
   "cell_type": "code",
   "execution_count": 3,
   "metadata": {},
   "outputs": [],
   "source": [
    "from warnings import simplefilter\n",
    "simplefilter(action='ignore', category=[FutureWarning,DeprecationWarning])"
   ]
  },
  {
   "cell_type": "code",
   "execution_count": 4,
   "metadata": {},
   "outputs": [],
   "source": [
    "prices=pd.read_csv(r\"E:\\challenge\\prices.csv\")\n",
    "price_adjusted=pd.read_csv(r\"E:\\challenge\\prices-split-adjusted.csv\")\n",
    "fundamentals=pd.read_csv(r\"E:\\challenge\\fundamentals.csv\")\n",
    "securities=pd.read_csv(r\"E:\\challenge\\securities.csv\")"
   ]
  },
  {
   "cell_type": "code",
   "execution_count": 5,
   "metadata": {},
   "outputs": [],
   "source": [
    "# The EMA is a type of weighted moving average (WMA) that gives more weighting or importance to recent price data.\n",
    "# Since new data carries greater weight, the EMA responds more quickly to price changes than the SMA."
   ]
  },
  {
   "cell_type": "code",
   "execution_count": 6,
   "metadata": {},
   "outputs": [
    {
     "data": {
      "text/html": [
       "<div>\n",
       "<style scoped>\n",
       "    .dataframe tbody tr th:only-of-type {\n",
       "        vertical-align: middle;\n",
       "    }\n",
       "\n",
       "    .dataframe tbody tr th {\n",
       "        vertical-align: top;\n",
       "    }\n",
       "\n",
       "    .dataframe thead th {\n",
       "        text-align: right;\n",
       "    }\n",
       "</style>\n",
       "<table border=\"1\" class=\"dataframe\">\n",
       "  <thead>\n",
       "    <tr style=\"text-align: right;\">\n",
       "      <th></th>\n",
       "      <th>date</th>\n",
       "      <th>symbol</th>\n",
       "      <th>open</th>\n",
       "      <th>close</th>\n",
       "      <th>low</th>\n",
       "      <th>high</th>\n",
       "      <th>volume</th>\n",
       "    </tr>\n",
       "  </thead>\n",
       "  <tbody>\n",
       "    <tr>\n",
       "      <th>0</th>\n",
       "      <td>2016-01-05</td>\n",
       "      <td>WLTW</td>\n",
       "      <td>123.430000</td>\n",
       "      <td>125.839996</td>\n",
       "      <td>122.309998</td>\n",
       "      <td>126.250000</td>\n",
       "      <td>2163600.0</td>\n",
       "    </tr>\n",
       "    <tr>\n",
       "      <th>1</th>\n",
       "      <td>2016-01-06</td>\n",
       "      <td>WLTW</td>\n",
       "      <td>125.239998</td>\n",
       "      <td>119.980003</td>\n",
       "      <td>119.940002</td>\n",
       "      <td>125.540001</td>\n",
       "      <td>2386400.0</td>\n",
       "    </tr>\n",
       "    <tr>\n",
       "      <th>2</th>\n",
       "      <td>2016-01-07</td>\n",
       "      <td>WLTW</td>\n",
       "      <td>116.379997</td>\n",
       "      <td>114.949997</td>\n",
       "      <td>114.930000</td>\n",
       "      <td>119.739998</td>\n",
       "      <td>2489500.0</td>\n",
       "    </tr>\n",
       "    <tr>\n",
       "      <th>3</th>\n",
       "      <td>2016-01-08</td>\n",
       "      <td>WLTW</td>\n",
       "      <td>115.480003</td>\n",
       "      <td>116.620003</td>\n",
       "      <td>113.500000</td>\n",
       "      <td>117.440002</td>\n",
       "      <td>2006300.0</td>\n",
       "    </tr>\n",
       "    <tr>\n",
       "      <th>4</th>\n",
       "      <td>2016-01-11</td>\n",
       "      <td>WLTW</td>\n",
       "      <td>117.010002</td>\n",
       "      <td>114.970001</td>\n",
       "      <td>114.089996</td>\n",
       "      <td>117.330002</td>\n",
       "      <td>1408600.0</td>\n",
       "    </tr>\n",
       "  </tbody>\n",
       "</table>\n",
       "</div>"
      ],
      "text/plain": [
       "         date symbol        open       close         low        high  \\\n",
       "0  2016-01-05   WLTW  123.430000  125.839996  122.309998  126.250000   \n",
       "1  2016-01-06   WLTW  125.239998  119.980003  119.940002  125.540001   \n",
       "2  2016-01-07   WLTW  116.379997  114.949997  114.930000  119.739998   \n",
       "3  2016-01-08   WLTW  115.480003  116.620003  113.500000  117.440002   \n",
       "4  2016-01-11   WLTW  117.010002  114.970001  114.089996  117.330002   \n",
       "\n",
       "      volume  \n",
       "0  2163600.0  \n",
       "1  2386400.0  \n",
       "2  2489500.0  \n",
       "3  2006300.0  \n",
       "4  1408600.0  "
      ]
     },
     "execution_count": 6,
     "metadata": {},
     "output_type": "execute_result"
    }
   ],
   "source": [
    "price_adjusted.head()"
   ]
  },
  {
   "cell_type": "code",
   "execution_count": 7,
   "metadata": {},
   "outputs": [
    {
     "name": "stdout",
     "output_type": "stream",
     "text": [
      "<class 'pandas.core.frame.DataFrame'>\n",
      "RangeIndex: 851264 entries, 0 to 851263\n",
      "Data columns (total 7 columns):\n",
      " #   Column  Non-Null Count   Dtype  \n",
      "---  ------  --------------   -----  \n",
      " 0   date    851264 non-null  object \n",
      " 1   symbol  851264 non-null  object \n",
      " 2   open    851264 non-null  float64\n",
      " 3   close   851264 non-null  float64\n",
      " 4   low     851264 non-null  float64\n",
      " 5   high    851264 non-null  float64\n",
      " 6   volume  851264 non-null  float64\n",
      "dtypes: float64(5), object(2)\n",
      "memory usage: 45.5+ MB\n"
     ]
    }
   ],
   "source": [
    "price_adjusted.info()"
   ]
  },
  {
   "cell_type": "code",
   "execution_count": 8,
   "metadata": {},
   "outputs": [],
   "source": [
    "a=price_adjusted[price_adjusted[\"symbol\"]=='YHOO'].copy()"
   ]
  },
  {
   "cell_type": "code",
   "execution_count": 9,
   "metadata": {},
   "outputs": [],
   "source": [
    "a.reset_index(inplace=True)\n",
    "a.drop([\"index\"],axis=1, inplace=True)"
   ]
  },
  {
   "cell_type": "code",
   "execution_count": 10,
   "metadata": {},
   "outputs": [
    {
     "data": {
      "text/plain": [
       "<matplotlib.axes._subplots.AxesSubplot at 0x19de693f6c8>"
      ]
     },
     "execution_count": 10,
     "metadata": {},
     "output_type": "execute_result"
    },
    {
     "data": {
      "image/png": "[encoded data removed]",
      "text/plain": [
       "<Figure size 720x360 with 1 Axes>"
      ]
     },
     "metadata": {
      "needs_background": "light"
     },
     "output_type": "display_data"
    }
   ],
   "source": [
    "plt.figure(figsize=(10,5))\n",
    "a[\"close\"].plot(kind='line')"
   ]
  },
  {
   "cell_type": "code",
   "execution_count": 11,
   "metadata": {},
   "outputs": [
    {
     "data": {
      "text/plain": [
       "<matplotlib.axes._subplots.AxesSubplot at 0x19de7669488>"
      ]
     },
     "execution_count": 11,
     "metadata": {},
     "output_type": "execute_result"
    },
    {
     "data": {
      "image/png": "[encoded data removed]",
      "text/plain": [
       "<Figure size 720x360 with 1 Axes>"
      ]
     },
     "metadata": {
      "needs_background": "light"
     },
     "output_type": "display_data"
    }
   ],
   "source": [
    "trialdf=a.tail(15)\n",
    "trialdf.set_index('date',inplace=True)\n",
    "plt.figure(figsize=(10,5))\n",
    "trialdf[\"low\"].plot(kind='line')"
   ]
  },
  {
   "cell_type": "code",
   "execution_count": 12,
   "metadata": {},
   "outputs": [],
   "source": [
    "#########################################################\n",
    "#for i in mylist:\n",
    " #a['ema12'+i]=np.nan\n",
    " #a['ema26'+i]=np.nan\n",
    " #a.loc[12,'ema12'+i]=a.loc[0:11][i].mean()\n",
    " #a.loc[26,'ema26'+i]=a.loc[0:25][i].mean()\n",
    " #for j in range(13, len(a.index)):\n",
    " # a.loc[j,'ema12'+i]=a.loc[j-1][i]*0.16 + a.loc[j-1]['ema12'+i]*0.84\n",
    " #for j in range(27, len(a.index)):\n",
    "  #a.loc[j,'ema26'+i]=a.loc[j-1][i]*0.074 + a.loc[j-1]['ema26'+i]*0.926\n",
    " #a['macd'+i]=a['ema12'+i]-a['ema26'+i]\n",
    "    \n",
    "    \n",
    "#a['trema']=np.nan\n",
    "#a.loc[12,'trema']=a.loc[0:11]['open'].mean()\n",
    "#for _ in range(len(a)):\n",
    "    #a.trema = np.where(a.ind > 12, a.open.shift()*0.16 + a.trema.shift()*0.84, a.trema)\n",
    "    \n",
    "#########################################################"
   ]
  },
  {
   "cell_type": "code",
   "execution_count": 13,
   "metadata": {},
   "outputs": [],
   "source": [
    "no_rows_a=len(a.index)\n",
    "a.loc[no_rows_a]=a.loc[no_rows_a -1]  #to easily obtain the stats of previous 20 days.(of the day we want to predict the prices).otherwise, we would have to type a lot extra\n",
    "a['ind']=a.index"
   ]
  },
  {
   "cell_type": "markdown",
   "metadata": {},
   "source": [
    "### instead of above slow process using loop, use apply with a global variable"
   ]
  },
  {
   "cell_type": "code",
   "execution_count": 14,
   "metadata": {},
   "outputs": [],
   "source": [
    "#calculate 12 day ema\n",
    "a['ema12']=np.nan\n",
    "a.loc[12,'ema12']=a.loc[0:11]['close'].mean()\n",
    "\n",
    "prev_ema = np.nan\n",
    "\n",
    "def calc_ema12(x):\n",
    "    global prev_ema\n",
    "    if x['ind'] > 12:\n",
    "        if not np.isnan(a.loc[x['ind']-1, 'ema12']):\n",
    "            prev_ema =  a.loc[x['ind']-1, 'open']*0.16 + a.loc[x['ind']-1, 'ema12']*0.84\n",
    "            return prev_ema\n",
    "        else:\n",
    "            prev_ema = a.loc[x['ind']-1, 'open']*0.16 + prev_ema*0.84\n",
    "            return prev_ema\n",
    "    else:\n",
    "        return x['ema12']\n",
    "\n",
    "\n",
    "a[\"ema12\"]=a.apply(lambda x: calc_ema12(x) ,axis=1)"
   ]
  },
  {
   "cell_type": "code",
   "execution_count": 15,
   "metadata": {},
   "outputs": [],
   "source": [
    "#calculate 26 day ema\n",
    "a['ema26']=np.nan\n",
    "a.loc[26,'ema26']=a.loc[0:25,'close'].mean()\n",
    "\n",
    "prev_ema=np.nan\n",
    "\n",
    "def calc_ema26(x): \n",
    "    global prev_ema\n",
    "    if x['ind'] > 26:\n",
    "        if not np.isnan(a.loc[x['ind']-1 , 'ema26']):\n",
    "            prev_ema=a.loc[x['ind']-1 , 'close']*0.074 + a.loc[x['ind']-1 ,'ema26']*0.926\n",
    "            return prev_ema\n",
    "        else:\n",
    "            prev_ema=a.loc[x['ind']-1 , 'close']*0.074 + prev_ema*0.926\n",
    "            return prev_ema\n",
    "    else:\n",
    "        return x['ema26']\n",
    " \n",
    "    \n",
    "a['ema26']=a.apply(lambda x: calc_ema26(x),axis=1)"
   ]
  },
  {
   "cell_type": "code",
   "execution_count": 16,
   "metadata": {},
   "outputs": [],
   "source": [
    "a['macd']=a['ema12']-a['ema26']"
   ]
  },
  {
   "cell_type": "code",
   "execution_count": 17,
   "metadata": {},
   "outputs": [],
   "source": [
    "#calculate OBV\n",
    "a['obv']=np.nan\n",
    "a.loc[1,'obv']=0\n",
    "\n",
    "prev_obv=np.nan\n",
    "\n",
    "def calc_obv(x):\n",
    "    global prev_obv\n",
    "    if(x['ind']>1):\n",
    "        if not np.isnan(a.loc[x['ind']-1 , 'obv']):\n",
    "            if(a.loc[x['ind']-1 , 'close']>a.loc[x['ind']-2 , 'close']):\n",
    "                prev_obv=a.loc[x['ind']-1 , 'obv'] + a.loc[x['ind']-1 , 'volume']\n",
    "            elif(a.loc[x['ind']-1 , 'close'] == a.loc[x['ind']-2 , 'close']):\n",
    "                prev_obv=a.loc[x['ind']-1 , 'obv'] + 0\n",
    "            else:\n",
    "                prev_obv=a.loc[x['ind']-1 , 'obv'] - a.loc[x['ind']-1 , 'volume']\n",
    "        else:\n",
    "            if(a.loc[x['ind']-1 , 'close']>a.loc[x['ind']-2 , 'close']):\n",
    "                prev_obv=prev_obv + a.loc[x['ind']-1 , 'volume']\n",
    "            elif(a.loc[x['ind']-1 , 'close'] == a.loc[x['ind']-2 , 'close']):\n",
    "                prev_obv=prev_obv + 0\n",
    "            else:\n",
    "                prev_obv=prev_obv - a.loc[x['ind']-1 , 'volume']\n",
    "        return prev_obv\n",
    "            \n",
    "    else:\n",
    "        return x['obv']\n",
    "         \n",
    "\n",
    "a['obv']=a.apply(lambda x: calc_obv(x), axis=1)"
   ]
  },
  {
   "cell_type": "code",
   "execution_count": 18,
   "metadata": {},
   "outputs": [],
   "source": [
    "df=a.loc[600:][:].copy()    #main dataframe to be used for training and testing"
   ]
  },
  {
   "cell_type": "code",
   "execution_count": 19,
   "metadata": {},
   "outputs": [],
   "source": [
    "df['ind']=df.index\n",
    "df.reset_index(inplace=True)\n",
    "df.drop([\"index\"],axis=1, inplace=True)\n",
    "norows=len(df.index)"
   ]
  },
  {
   "cell_type": "code",
   "execution_count": 20,
   "metadata": {},
   "outputs": [],
   "source": [
    "mylist=['open','close','low','high']"
   ]
  },
  {
   "cell_type": "code",
   "execution_count": 21,
   "metadata": {},
   "outputs": [],
   "source": [
    "#bollinger bands\n",
    "for i in mylist:\n",
    "   df[\"mean\"+i+\"20\"]=df.apply(lambda x: a.loc[x[\"ind\"]-20 :x[\"ind\"]-1][i].mean() , axis=1)\n",
    "   df[\"std\"+i+\"20\"]=df.apply(lambda x: a.loc[x[\"ind\"]-20 :x[\"ind\"]-1][i].std() , axis=1)\n",
    "\n",
    "df['topbolly']=df['meanclose20']+2*df['stdclose20']\n",
    "df['lowbolly']=df['meanclose20']-2*df['stdclose20']"
   ]
  },
  {
   "cell_type": "code",
   "execution_count": 22,
   "metadata": {},
   "outputs": [],
   "source": [
    "#stochastic oscillator\n",
    "df['st_osc']=df.apply(lambda x: (a.loc[x['ind']-1 ,'close']-a.loc[x['ind']-14:x['ind']-1 ,'close'].min())/(a.loc[x['ind']-14:x['ind']-1 ,'close'].max()-a.loc[x['ind']-14:x['ind']-1 ,'close'].min()),axis=1)"
   ]
  },
  {
   "cell_type": "code",
   "execution_count": 23,
   "metadata": {},
   "outputs": [
    {
     "data": {
      "text/plain": [
       "Index(['date', 'symbol', 'open', 'close', 'low', 'high', 'volume', 'ind',\n",
       "       'ema12', 'ema26', 'macd', 'obv', 'meanopen20', 'stdopen20',\n",
       "       'meanclose20', 'stdclose20', 'meanlow20', 'stdlow20', 'meanhigh20',\n",
       "       'stdhigh20', 'topbolly', 'lowbolly', 'st_osc'],\n",
       "      dtype='object')"
      ]
     },
     "execution_count": 23,
     "metadata": {},
     "output_type": "execute_result"
    }
   ],
   "source": [
    "df.columns"
   ]
  },
  {
   "cell_type": "code",
   "execution_count": 24,
   "metadata": {},
   "outputs": [],
   "source": [
    "df.drop(['date','symbol','meanopen20', 'stdopen20',\n",
    "       'meanclose20', 'stdclose20', 'meanlow20', 'stdlow20', 'meanhigh20',\n",
    "       'stdhigh20','ema12','ema26','ind'],axis=1,inplace=True)"
   ]
  },
  {
   "cell_type": "code",
   "execution_count": 25,
   "metadata": {},
   "outputs": [],
   "source": [
    "params=['macd', 'obv', 'topbolly', 'lowbolly', 'st_osc']\n",
    "target=[\"open\",\"close\",\"low\",\"high\"]"
   ]
  },
  {
   "cell_type": "code",
   "execution_count": 26,
   "metadata": {},
   "outputs": [
    {
     "name": "stdout",
     "output_type": "stream",
     "text": [
      "1163 , 232\n"
     ]
    }
   ],
   "source": [
    "testsize=int((norows-1)/5)\n",
    "print(norows,',',testsize)"
   ]
  },
  {
   "cell_type": "code",
   "execution_count": 27,
   "metadata": {},
   "outputs": [],
   "source": [
    "x=df.loc[0:norows-2][params].copy()\n",
    "scaler = MinMaxScaler()\n",
    "x=pd.DataFrame(scaler.fit_transform(x),columns=params)"
   ]
  },
  {
   "cell_type": "code",
   "execution_count": 28,
   "metadata": {},
   "outputs": [
    {
     "data": {
      "text/html": [
       "<div>\n",
       "<style scoped>\n",
       "    .dataframe tbody tr th:only-of-type {\n",
       "        vertical-align: middle;\n",
       "    }\n",
       "\n",
       "    .dataframe tbody tr th {\n",
       "        vertical-align: top;\n",
       "    }\n",
       "\n",
       "    .dataframe thead th {\n",
       "        text-align: right;\n",
       "    }\n",
       "</style>\n",
       "<table border=\"1\" class=\"dataframe\">\n",
       "  <thead>\n",
       "    <tr style=\"text-align: right;\">\n",
       "      <th></th>\n",
       "      <th>open</th>\n",
       "      <th>close</th>\n",
       "      <th>low</th>\n",
       "      <th>high</th>\n",
       "      <th>volume</th>\n",
       "      <th>macd</th>\n",
       "      <th>obv</th>\n",
       "      <th>topbolly</th>\n",
       "      <th>lowbolly</th>\n",
       "      <th>st_osc</th>\n",
       "    </tr>\n",
       "  </thead>\n",
       "  <tbody>\n",
       "    <tr>\n",
       "      <th>1153</th>\n",
       "      <td>38.660000</td>\n",
       "      <td>38.419998</td>\n",
       "      <td>38.270000</td>\n",
       "      <td>38.790001</td>\n",
       "      <td>13607200.0</td>\n",
       "      <td>-0.172202</td>\n",
       "      <td>771442000.0</td>\n",
       "      <td>42.546052</td>\n",
       "      <td>38.800948</td>\n",
       "      <td>0.059702</td>\n",
       "    </tr>\n",
       "    <tr>\n",
       "      <th>1154</th>\n",
       "      <td>38.400002</td>\n",
       "      <td>39.160000</td>\n",
       "      <td>38.240002</td>\n",
       "      <td>39.180000</td>\n",
       "      <td>15007900.0</td>\n",
       "      <td>-0.299397</td>\n",
       "      <td>757834800.0</td>\n",
       "      <td>42.641805</td>\n",
       "      <td>38.428194</td>\n",
       "      <td>0.002984</td>\n",
       "    </tr>\n",
       "    <tr>\n",
       "      <th>1155</th>\n",
       "      <td>39.080002</td>\n",
       "      <td>39.150002</td>\n",
       "      <td>38.970001</td>\n",
       "      <td>39.320000</td>\n",
       "      <td>8263600.0</td>\n",
       "      <td>-0.488307</td>\n",
       "      <td>772842700.0</td>\n",
       "      <td>42.611672</td>\n",
       "      <td>38.263328</td>\n",
       "      <td>0.223881</td>\n",
       "    </tr>\n",
       "    <tr>\n",
       "      <th>1156</th>\n",
       "      <td>38.689999</td>\n",
       "      <td>38.500000</td>\n",
       "      <td>38.259998</td>\n",
       "      <td>38.790001</td>\n",
       "      <td>11685600.0</td>\n",
       "      <td>-0.528927</td>\n",
       "      <td>764579100.0</td>\n",
       "      <td>42.573981</td>\n",
       "      <td>38.115019</td>\n",
       "      <td>0.220896</td>\n",
       "    </tr>\n",
       "    <tr>\n",
       "      <th>1157</th>\n",
       "      <td>38.459999</td>\n",
       "      <td>38.660000</td>\n",
       "      <td>38.369999</td>\n",
       "      <td>38.810001</td>\n",
       "      <td>3840100.0</td>\n",
       "      <td>-0.569389</td>\n",
       "      <td>752893500.0</td>\n",
       "      <td>42.575938</td>\n",
       "      <td>37.867062</td>\n",
       "      <td>0.026866</td>\n",
       "    </tr>\n",
       "    <tr>\n",
       "      <th>1158</th>\n",
       "      <td>38.590000</td>\n",
       "      <td>38.919998</td>\n",
       "      <td>38.500000</td>\n",
       "      <td>39.070000</td>\n",
       "      <td>4240300.0</td>\n",
       "      <td>-0.640510</td>\n",
       "      <td>756733600.0</td>\n",
       "      <td>42.543437</td>\n",
       "      <td>37.678563</td>\n",
       "      <td>0.074627</td>\n",
       "    </tr>\n",
       "    <tr>\n",
       "      <th>1159</th>\n",
       "      <td>39.119999</td>\n",
       "      <td>38.730000</td>\n",
       "      <td>38.709999</td>\n",
       "      <td>39.220001</td>\n",
       "      <td>4393500.0</td>\n",
       "      <td>-0.689056</td>\n",
       "      <td>760973900.0</td>\n",
       "      <td>42.386696</td>\n",
       "      <td>37.582304</td>\n",
       "      <td>0.152238</td>\n",
       "    </tr>\n",
       "    <tr>\n",
       "      <th>1160</th>\n",
       "      <td>38.759998</td>\n",
       "      <td>38.639999</td>\n",
       "      <td>38.480000</td>\n",
       "      <td>38.930000</td>\n",
       "      <td>4170200.0</td>\n",
       "      <td>-0.623705</td>\n",
       "      <td>756580400.0</td>\n",
       "      <td>42.178888</td>\n",
       "      <td>37.503112</td>\n",
       "      <td>0.095522</td>\n",
       "    </tr>\n",
       "    <tr>\n",
       "      <th>1161</th>\n",
       "      <td>38.720001</td>\n",
       "      <td>38.669998</td>\n",
       "      <td>38.430000</td>\n",
       "      <td>39.000000</td>\n",
       "      <td>6431600.0</td>\n",
       "      <td>-0.611811</td>\n",
       "      <td>752410200.0</td>\n",
       "      <td>42.049471</td>\n",
       "      <td>37.394529</td>\n",
       "      <td>0.068656</td>\n",
       "    </tr>\n",
       "    <tr>\n",
       "      <th>1162</th>\n",
       "      <td>38.720001</td>\n",
       "      <td>38.669998</td>\n",
       "      <td>38.430000</td>\n",
       "      <td>39.000000</td>\n",
       "      <td>6431600.0</td>\n",
       "      <td>-0.602514</td>\n",
       "      <td>758841800.0</td>\n",
       "      <td>42.048579</td>\n",
       "      <td>37.299420</td>\n",
       "      <td>0.084967</td>\n",
       "    </tr>\n",
       "  </tbody>\n",
       "</table>\n",
       "</div>"
      ],
      "text/plain": [
       "           open      close        low       high      volume      macd  \\\n",
       "1153  38.660000  38.419998  38.270000  38.790001  13607200.0 -0.172202   \n",
       "1154  38.400002  39.160000  38.240002  39.180000  15007900.0 -0.299397   \n",
       "1155  39.080002  39.150002  38.970001  39.320000   8263600.0 -0.488307   \n",
       "1156  38.689999  38.500000  38.259998  38.790001  11685600.0 -0.528927   \n",
       "1157  38.459999  38.660000  38.369999  38.810001   3840100.0 -0.569389   \n",
       "1158  38.590000  38.919998  38.500000  39.070000   4240300.0 -0.640510   \n",
       "1159  39.119999  38.730000  38.709999  39.220001   4393500.0 -0.689056   \n",
       "1160  38.759998  38.639999  38.480000  38.930000   4170200.0 -0.623705   \n",
       "1161  38.720001  38.669998  38.430000  39.000000   6431600.0 -0.611811   \n",
       "1162  38.720001  38.669998  38.430000  39.000000   6431600.0 -0.602514   \n",
       "\n",
       "              obv   topbolly   lowbolly    st_osc  \n",
       "1153  771442000.0  42.546052  38.800948  0.059702  \n",
       "1154  757834800.0  42.641805  38.428194  0.002984  \n",
       "1155  772842700.0  42.611672  38.263328  0.223881  \n",
       "1156  764579100.0  42.573981  38.115019  0.220896  \n",
       "1157  752893500.0  42.575938  37.867062  0.026866  \n",
       "1158  756733600.0  42.543437  37.678563  0.074627  \n",
       "1159  760973900.0  42.386696  37.582304  0.152238  \n",
       "1160  756580400.0  42.178888  37.503112  0.095522  \n",
       "1161  752410200.0  42.049471  37.394529  0.068656  \n",
       "1162  758841800.0  42.048579  37.299420  0.084967  "
      ]
     },
     "execution_count": 28,
     "metadata": {},
     "output_type": "execute_result"
    }
   ],
   "source": [
    "df.tail(10)"
   ]
  },
  {
   "cell_type": "code",
   "execution_count": 29,
   "metadata": {},
   "outputs": [
    {
     "data": {
      "text/html": [
       "<div>\n",
       "<style scoped>\n",
       "    .dataframe tbody tr th:only-of-type {\n",
       "        vertical-align: middle;\n",
       "    }\n",
       "\n",
       "    .dataframe tbody tr th {\n",
       "        vertical-align: top;\n",
       "    }\n",
       "\n",
       "    .dataframe thead th {\n",
       "        text-align: right;\n",
       "    }\n",
       "</style>\n",
       "<table border=\"1\" class=\"dataframe\">\n",
       "  <thead>\n",
       "    <tr style=\"text-align: right;\">\n",
       "      <th></th>\n",
       "      <th>macd</th>\n",
       "      <th>obv</th>\n",
       "      <th>topbolly</th>\n",
       "      <th>lowbolly</th>\n",
       "      <th>st_osc</th>\n",
       "    </tr>\n",
       "  </thead>\n",
       "  <tbody>\n",
       "    <tr>\n",
       "      <th>1152</th>\n",
       "      <td>0.401866</td>\n",
       "      <td>0.859681</td>\n",
       "      <td>0.700518</td>\n",
       "      <td>0.713546</td>\n",
       "      <td>0.000000</td>\n",
       "    </tr>\n",
       "    <tr>\n",
       "      <th>1153</th>\n",
       "      <td>0.355989</td>\n",
       "      <td>0.880842</td>\n",
       "      <td>0.703145</td>\n",
       "      <td>0.702576</td>\n",
       "      <td>0.059702</td>\n",
       "    </tr>\n",
       "    <tr>\n",
       "      <th>1154</th>\n",
       "      <td>0.325691</td>\n",
       "      <td>0.867416</td>\n",
       "      <td>0.705610</td>\n",
       "      <td>0.691982</td>\n",
       "      <td>0.002984</td>\n",
       "    </tr>\n",
       "    <tr>\n",
       "      <th>1155</th>\n",
       "      <td>0.280693</td>\n",
       "      <td>0.882224</td>\n",
       "      <td>0.704834</td>\n",
       "      <td>0.687297</td>\n",
       "      <td>0.223881</td>\n",
       "    </tr>\n",
       "    <tr>\n",
       "      <th>1156</th>\n",
       "      <td>0.271018</td>\n",
       "      <td>0.874071</td>\n",
       "      <td>0.703864</td>\n",
       "      <td>0.683082</td>\n",
       "      <td>0.220896</td>\n",
       "    </tr>\n",
       "    <tr>\n",
       "      <th>1157</th>\n",
       "      <td>0.261380</td>\n",
       "      <td>0.862541</td>\n",
       "      <td>0.703914</td>\n",
       "      <td>0.676036</td>\n",
       "      <td>0.026866</td>\n",
       "    </tr>\n",
       "    <tr>\n",
       "      <th>1158</th>\n",
       "      <td>0.244439</td>\n",
       "      <td>0.866330</td>\n",
       "      <td>0.703078</td>\n",
       "      <td>0.670679</td>\n",
       "      <td>0.074627</td>\n",
       "    </tr>\n",
       "    <tr>\n",
       "      <th>1159</th>\n",
       "      <td>0.232876</td>\n",
       "      <td>0.870514</td>\n",
       "      <td>0.699043</td>\n",
       "      <td>0.667943</td>\n",
       "      <td>0.152238</td>\n",
       "    </tr>\n",
       "    <tr>\n",
       "      <th>1160</th>\n",
       "      <td>0.248442</td>\n",
       "      <td>0.866179</td>\n",
       "      <td>0.693693</td>\n",
       "      <td>0.665693</td>\n",
       "      <td>0.095522</td>\n",
       "    </tr>\n",
       "    <tr>\n",
       "      <th>1161</th>\n",
       "      <td>0.251275</td>\n",
       "      <td>0.862064</td>\n",
       "      <td>0.690362</td>\n",
       "      <td>0.662607</td>\n",
       "      <td>0.068656</td>\n",
       "    </tr>\n",
       "  </tbody>\n",
       "</table>\n",
       "</div>"
      ],
      "text/plain": [
       "          macd       obv  topbolly  lowbolly    st_osc\n",
       "1152  0.401866  0.859681  0.700518  0.713546  0.000000\n",
       "1153  0.355989  0.880842  0.703145  0.702576  0.059702\n",
       "1154  0.325691  0.867416  0.705610  0.691982  0.002984\n",
       "1155  0.280693  0.882224  0.704834  0.687297  0.223881\n",
       "1156  0.271018  0.874071  0.703864  0.683082  0.220896\n",
       "1157  0.261380  0.862541  0.703914  0.676036  0.026866\n",
       "1158  0.244439  0.866330  0.703078  0.670679  0.074627\n",
       "1159  0.232876  0.870514  0.699043  0.667943  0.152238\n",
       "1160  0.248442  0.866179  0.693693  0.665693  0.095522\n",
       "1161  0.251275  0.862064  0.690362  0.662607  0.068656"
      ]
     },
     "execution_count": 29,
     "metadata": {},
     "output_type": "execute_result"
    }
   ],
   "source": [
    "x.tail(10)"
   ]
  },
  {
   "cell_type": "code",
   "execution_count": 30,
   "metadata": {},
   "outputs": [
    {
     "data": {
      "text/plain": [
       "array([[0.2534896 , 0.86840997, 0.69033858, 0.65990387, 0.08496664]])"
      ]
     },
     "execution_count": 30,
     "metadata": {},
     "output_type": "execute_result"
    }
   ],
   "source": [
    "testdata=np.array(df.loc[norows-1][params].copy())\n",
    "testdata=scaler.transform(testdata.reshape(1,-1))\n",
    "testdata"
   ]
  },
  {
   "cell_type": "code",
   "execution_count": 31,
   "metadata": {},
   "outputs": [
    {
     "data": {
      "text/plain": [
       "(10.5, -0.5)"
      ]
     },
     "execution_count": 31,
     "metadata": {},
     "output_type": "execute_result"
    },
    {
     "data": {
      "image/png": "[encoded data removed]",
      "text/plain": [
       "<Figure size 1440x720 with 2 Axes>"
      ]
     },
     "metadata": {
      "needs_background": "light"
     },
     "output_type": "display_data"
    }
   ],
   "source": [
    "plt.figure(figsize=(20,10))\n",
    "ax=sn.heatmap(df.corr(),annot=True, linewidth=0.5 , cmap='coolwarm') \n",
    "bottom, top = ax.get_ylim()\n",
    "ax.set_ylim(bottom + 0.5, top - 0.5)"
   ]
  },
  {
   "cell_type": "code",
   "execution_count": 32,
   "metadata": {},
   "outputs": [],
   "source": [
    "#for i in target:\n",
    "x_train=x.loc[0:norows-1-testsize][:].copy()\n",
    "x_test=x.loc[norows-testsize :][:].copy()\n",
    "y_train=df.loc[0:norows-1-testsize]['close'].copy()\n",
    "y_test=df.loc[norows-testsize :norows-2]['close'].copy()"
   ]
  },
  {
   "cell_type": "code",
   "execution_count": 33,
   "metadata": {},
   "outputs": [
    {
     "data": {
      "text/html": [
       "<div>\n",
       "<style scoped>\n",
       "    .dataframe tbody tr th:only-of-type {\n",
       "        vertical-align: middle;\n",
       "    }\n",
       "\n",
       "    .dataframe tbody tr th {\n",
       "        vertical-align: top;\n",
       "    }\n",
       "\n",
       "    .dataframe thead th {\n",
       "        text-align: right;\n",
       "    }\n",
       "</style>\n",
       "<table border=\"1\" class=\"dataframe\">\n",
       "  <thead>\n",
       "    <tr style=\"text-align: right;\">\n",
       "      <th></th>\n",
       "      <th>macd</th>\n",
       "      <th>obv</th>\n",
       "      <th>topbolly</th>\n",
       "      <th>lowbolly</th>\n",
       "      <th>st_osc</th>\n",
       "    </tr>\n",
       "  </thead>\n",
       "  <tbody>\n",
       "    <tr>\n",
       "      <th>0</th>\n",
       "      <td>0.419159</td>\n",
       "      <td>0.053660</td>\n",
       "      <td>0.013555</td>\n",
       "      <td>0.026964</td>\n",
       "      <td>0.687500</td>\n",
       "    </tr>\n",
       "    <tr>\n",
       "      <th>1</th>\n",
       "      <td>0.437048</td>\n",
       "      <td>0.104123</td>\n",
       "      <td>0.014081</td>\n",
       "      <td>0.027093</td>\n",
       "      <td>0.887500</td>\n",
       "    </tr>\n",
       "    <tr>\n",
       "      <th>2</th>\n",
       "      <td>0.440777</td>\n",
       "      <td>0.071029</td>\n",
       "      <td>0.013986</td>\n",
       "      <td>0.026800</td>\n",
       "      <td>0.591549</td>\n",
       "    </tr>\n",
       "    <tr>\n",
       "      <th>3</th>\n",
       "      <td>0.427528</td>\n",
       "      <td>0.088902</td>\n",
       "      <td>0.013755</td>\n",
       "      <td>0.026715</td>\n",
       "      <td>0.718310</td>\n",
       "    </tr>\n",
       "    <tr>\n",
       "      <th>4</th>\n",
       "      <td>0.422571</td>\n",
       "      <td>0.075212</td>\n",
       "      <td>0.013386</td>\n",
       "      <td>0.026610</td>\n",
       "      <td>0.676056</td>\n",
       "    </tr>\n",
       "    <tr>\n",
       "      <th>...</th>\n",
       "      <td>...</td>\n",
       "      <td>...</td>\n",
       "      <td>...</td>\n",
       "      <td>...</td>\n",
       "      <td>...</td>\n",
       "    </tr>\n",
       "    <tr>\n",
       "      <th>926</th>\n",
       "      <td>0.163175</td>\n",
       "      <td>0.782747</td>\n",
       "      <td>0.487511</td>\n",
       "      <td>0.384894</td>\n",
       "      <td>0.355029</td>\n",
       "    </tr>\n",
       "    <tr>\n",
       "      <th>927</th>\n",
       "      <td>0.180299</td>\n",
       "      <td>0.769393</td>\n",
       "      <td>0.476806</td>\n",
       "      <td>0.385600</td>\n",
       "      <td>0.476440</td>\n",
       "    </tr>\n",
       "    <tr>\n",
       "      <th>928</th>\n",
       "      <td>0.239644</td>\n",
       "      <td>0.754012</td>\n",
       "      <td>0.461807</td>\n",
       "      <td>0.387124</td>\n",
       "      <td>0.000000</td>\n",
       "    </tr>\n",
       "    <tr>\n",
       "      <th>929</th>\n",
       "      <td>0.222674</td>\n",
       "      <td>0.772738</td>\n",
       "      <td>0.447848</td>\n",
       "      <td>0.391566</td>\n",
       "      <td>0.391752</td>\n",
       "    </tr>\n",
       "    <tr>\n",
       "      <th>930</th>\n",
       "      <td>0.215803</td>\n",
       "      <td>0.785471</td>\n",
       "      <td>0.431384</td>\n",
       "      <td>0.399254</td>\n",
       "      <td>0.422680</td>\n",
       "    </tr>\n",
       "  </tbody>\n",
       "</table>\n",
       "<p>931 rows × 5 columns</p>\n",
       "</div>"
      ],
      "text/plain": [
       "         macd       obv  topbolly  lowbolly    st_osc\n",
       "0    0.419159  0.053660  0.013555  0.026964  0.687500\n",
       "1    0.437048  0.104123  0.014081  0.027093  0.887500\n",
       "2    0.440777  0.071029  0.013986  0.026800  0.591549\n",
       "3    0.427528  0.088902  0.013755  0.026715  0.718310\n",
       "4    0.422571  0.075212  0.013386  0.026610  0.676056\n",
       "..        ...       ...       ...       ...       ...\n",
       "926  0.163175  0.782747  0.487511  0.384894  0.355029\n",
       "927  0.180299  0.769393  0.476806  0.385600  0.476440\n",
       "928  0.239644  0.754012  0.461807  0.387124  0.000000\n",
       "929  0.222674  0.772738  0.447848  0.391566  0.391752\n",
       "930  0.215803  0.785471  0.431384  0.399254  0.422680\n",
       "\n",
       "[931 rows x 5 columns]"
      ]
     },
     "execution_count": 33,
     "metadata": {},
     "output_type": "execute_result"
    }
   ],
   "source": [
    "x_train"
   ]
  },
  {
   "cell_type": "code",
   "execution_count": 34,
   "metadata": {},
   "outputs": [
    {
     "data": {
      "text/plain": [
       "0      15.580000\n",
       "1      15.290000\n",
       "2      15.380000\n",
       "3      15.350000\n",
       "4      15.360000\n",
       "         ...    \n",
       "926    29.690001\n",
       "927    28.750000\n",
       "928    29.510000\n",
       "929    29.570000\n",
       "930    29.059999\n",
       "Name: close, Length: 931, dtype: float64"
      ]
     },
     "execution_count": 34,
     "metadata": {},
     "output_type": "execute_result"
    }
   ],
   "source": [
    "y_train"
   ]
  },
  {
   "cell_type": "markdown",
   "metadata": {},
   "source": [
    "#### GridsearchCV on rf, lr and dec_tree"
   ]
  },
  {
   "cell_type": "code",
   "execution_count": 35,
   "metadata": {},
   "outputs": [
    {
     "data": {
      "text/html": [
       "<div>\n",
       "<style scoped>\n",
       "    .dataframe tbody tr th:only-of-type {\n",
       "        vertical-align: middle;\n",
       "    }\n",
       "\n",
       "    .dataframe tbody tr th {\n",
       "        vertical-align: top;\n",
       "    }\n",
       "\n",
       "    .dataframe thead th {\n",
       "        text-align: right;\n",
       "    }\n",
       "</style>\n",
       "<table border=\"1\" class=\"dataframe\">\n",
       "  <thead>\n",
       "    <tr style=\"text-align: right;\">\n",
       "      <th></th>\n",
       "    </tr>\n",
       "  </thead>\n",
       "  <tbody>\n",
       "  </tbody>\n",
       "</table>\n",
       "</div>"
      ],
      "text/plain": [
       "Empty DataFrame\n",
       "Columns: []\n",
       "Index: []"
      ]
     },
     "execution_count": 35,
     "metadata": {},
     "output_type": "execute_result"
    }
   ],
   "source": [
    "model_params={\n",
    "              'random_forest':{'model':RandomForestRegressor(),'params':{'n_estimators':[5,10,100,500,1000],'min_samples_leaf':[3,5,7]}},\n",
    "              'linear_regression':{'model':LinearRegression(),'params':{}},\n",
    "              'decision_tree':{'model':DecisionTreeRegressor(),'params':{'min_samples_leaf':[7,10,13]}} \n",
    "             }\n",
    "scores=[]\n",
    "\n",
    "for i,j in model_params.items():\n",
    "  clf=GridSearchCV(j['model'],j['params'],return_train_score=False, cv=10)\n",
    "  clf.fit(x_train,y_train)\n",
    "  #scores.append({'model':i,'best_parameters':clf.best_params_,'mean_score':clf.best_score_})\n",
    "\n",
    "pd.DataFrame(scores)"
   ]
  },
  {
   "cell_type": "code",
   "execution_count": 36,
   "metadata": {},
   "outputs": [],
   "source": [
    "#here, got R^2 value of -0.67  which means the random forest was really bad.  \n",
    "#this also indicates the fact that random forest regressor performs poorly when the test data is out of bound of training data range "
   ]
  },
  {
   "cell_type": "code",
   "execution_count": 37,
   "metadata": {},
   "outputs": [
    {
     "data": {
      "text/html": [
       "<div>\n",
       "<style scoped>\n",
       "    .dataframe tbody tr th:only-of-type {\n",
       "        vertical-align: middle;\n",
       "    }\n",
       "\n",
       "    .dataframe tbody tr th {\n",
       "        vertical-align: top;\n",
       "    }\n",
       "\n",
       "    .dataframe thead th {\n",
       "        text-align: right;\n",
       "    }\n",
       "</style>\n",
       "<table border=\"1\" class=\"dataframe\">\n",
       "  <thead>\n",
       "    <tr style=\"text-align: right;\">\n",
       "      <th></th>\n",
       "      <th>mean_fit_time</th>\n",
       "      <th>std_fit_time</th>\n",
       "      <th>mean_score_time</th>\n",
       "      <th>std_score_time</th>\n",
       "      <th>param_min_samples_leaf</th>\n",
       "      <th>param_n_estimators</th>\n",
       "      <th>params</th>\n",
       "      <th>split0_test_score</th>\n",
       "      <th>split1_test_score</th>\n",
       "      <th>split2_test_score</th>\n",
       "      <th>mean_test_score</th>\n",
       "      <th>std_test_score</th>\n",
       "      <th>rank_test_score</th>\n",
       "    </tr>\n",
       "  </thead>\n",
       "  <tbody>\n",
       "    <tr>\n",
       "      <th>0</th>\n",
       "      <td>0.019208</td>\n",
       "      <td>0.001579</td>\n",
       "      <td>0.003001</td>\n",
       "      <td>7.018853e-07</td>\n",
       "      <td>3</td>\n",
       "      <td>5</td>\n",
       "      <td>{'min_samples_leaf': 3, 'n_estimators': 5}</td>\n",
       "      <td>-3.222005</td>\n",
       "      <td>0.108747</td>\n",
       "      <td>0.789362</td>\n",
       "      <td>-0.774632</td>\n",
       "      <td>1.752719</td>\n",
       "      <td>12</td>\n",
       "    </tr>\n",
       "    <tr>\n",
       "      <th>1</th>\n",
       "      <td>0.028335</td>\n",
       "      <td>0.001886</td>\n",
       "      <td>0.002001</td>\n",
       "      <td>1.808772e-06</td>\n",
       "      <td>3</td>\n",
       "      <td>10</td>\n",
       "      <td>{'min_samples_leaf': 3, 'n_estimators': 10}</td>\n",
       "      <td>-2.868412</td>\n",
       "      <td>-0.033367</td>\n",
       "      <td>0.846219</td>\n",
       "      <td>-0.685187</td>\n",
       "      <td>1.584986</td>\n",
       "      <td>2</td>\n",
       "    </tr>\n",
       "    <tr>\n",
       "      <th>2</th>\n",
       "      <td>0.237475</td>\n",
       "      <td>0.011719</td>\n",
       "      <td>0.009875</td>\n",
       "      <td>2.653791e-03</td>\n",
       "      <td>3</td>\n",
       "      <td>100</td>\n",
       "      <td>{'min_samples_leaf': 3, 'n_estimators': 100}</td>\n",
       "      <td>-3.032036</td>\n",
       "      <td>-0.027266</td>\n",
       "      <td>0.827173</td>\n",
       "      <td>-0.744043</td>\n",
       "      <td>1.655033</td>\n",
       "      <td>9</td>\n",
       "    </tr>\n",
       "    <tr>\n",
       "      <th>3</th>\n",
       "      <td>1.168428</td>\n",
       "      <td>0.031797</td>\n",
       "      <td>0.036003</td>\n",
       "      <td>2.828672e-03</td>\n",
       "      <td>3</td>\n",
       "      <td>500</td>\n",
       "      <td>{'min_samples_leaf': 3, 'n_estimators': 500}</td>\n",
       "      <td>-3.043912</td>\n",
       "      <td>0.038848</td>\n",
       "      <td>0.823433</td>\n",
       "      <td>-0.727210</td>\n",
       "      <td>1.669176</td>\n",
       "      <td>5</td>\n",
       "    </tr>\n",
       "    <tr>\n",
       "      <th>4</th>\n",
       "      <td>2.104190</td>\n",
       "      <td>0.005355</td>\n",
       "      <td>0.069005</td>\n",
       "      <td>2.946623e-03</td>\n",
       "      <td>3</td>\n",
       "      <td>1000</td>\n",
       "      <td>{'min_samples_leaf': 3, 'n_estimators': 1000}</td>\n",
       "      <td>-3.036245</td>\n",
       "      <td>0.001289</td>\n",
       "      <td>0.822930</td>\n",
       "      <td>-0.737342</td>\n",
       "      <td>1.659817</td>\n",
       "      <td>8</td>\n",
       "    </tr>\n",
       "    <tr>\n",
       "      <th>5</th>\n",
       "      <td>0.010674</td>\n",
       "      <td>0.000471</td>\n",
       "      <td>0.002005</td>\n",
       "      <td>1.988410e-06</td>\n",
       "      <td>5</td>\n",
       "      <td>5</td>\n",
       "      <td>{'min_samples_leaf': 5, 'n_estimators': 5}</td>\n",
       "      <td>-3.416091</td>\n",
       "      <td>0.152635</td>\n",
       "      <td>0.786359</td>\n",
       "      <td>-0.825699</td>\n",
       "      <td>1.849865</td>\n",
       "      <td>15</td>\n",
       "    </tr>\n",
       "    <tr>\n",
       "      <th>6</th>\n",
       "      <td>0.020663</td>\n",
       "      <td>0.000462</td>\n",
       "      <td>0.001670</td>\n",
       "      <td>4.753165e-04</td>\n",
       "      <td>5</td>\n",
       "      <td>10</td>\n",
       "      <td>{'min_samples_leaf': 5, 'n_estimators': 10}</td>\n",
       "      <td>-3.136867</td>\n",
       "      <td>0.295860</td>\n",
       "      <td>0.806311</td>\n",
       "      <td>-0.678232</td>\n",
       "      <td>1.750963</td>\n",
       "      <td>1</td>\n",
       "    </tr>\n",
       "    <tr>\n",
       "      <th>7</th>\n",
       "      <td>0.191679</td>\n",
       "      <td>0.000473</td>\n",
       "      <td>0.007670</td>\n",
       "      <td>4.709287e-04</td>\n",
       "      <td>5</td>\n",
       "      <td>100</td>\n",
       "      <td>{'min_samples_leaf': 5, 'n_estimators': 100}</td>\n",
       "      <td>-3.074856</td>\n",
       "      <td>-0.011420</td>\n",
       "      <td>0.808488</td>\n",
       "      <td>-0.759263</td>\n",
       "      <td>1.671235</td>\n",
       "      <td>10</td>\n",
       "    </tr>\n",
       "    <tr>\n",
       "      <th>8</th>\n",
       "      <td>0.978253</td>\n",
       "      <td>0.014689</td>\n",
       "      <td>0.033334</td>\n",
       "      <td>4.727826e-04</td>\n",
       "      <td>5</td>\n",
       "      <td>500</td>\n",
       "      <td>{'min_samples_leaf': 5, 'n_estimators': 500}</td>\n",
       "      <td>-3.037319</td>\n",
       "      <td>0.035541</td>\n",
       "      <td>0.812412</td>\n",
       "      <td>-0.729788</td>\n",
       "      <td>1.662208</td>\n",
       "      <td>6</td>\n",
       "    </tr>\n",
       "    <tr>\n",
       "      <th>9</th>\n",
       "      <td>2.153634</td>\n",
       "      <td>0.175660</td>\n",
       "      <td>0.079227</td>\n",
       "      <td>1.124027e-02</td>\n",
       "      <td>5</td>\n",
       "      <td>1000</td>\n",
       "      <td>{'min_samples_leaf': 5, 'n_estimators': 1000}</td>\n",
       "      <td>-3.065503</td>\n",
       "      <td>0.059523</td>\n",
       "      <td>0.812649</td>\n",
       "      <td>-0.731110</td>\n",
       "      <td>1.679056</td>\n",
       "      <td>7</td>\n",
       "    </tr>\n",
       "    <tr>\n",
       "      <th>10</th>\n",
       "      <td>0.012998</td>\n",
       "      <td>0.001550</td>\n",
       "      <td>0.001626</td>\n",
       "      <td>4.445035e-04</td>\n",
       "      <td>7</td>\n",
       "      <td>5</td>\n",
       "      <td>{'min_samples_leaf': 7, 'n_estimators': 5}</td>\n",
       "      <td>-2.914831</td>\n",
       "      <td>0.003621</td>\n",
       "      <td>0.786209</td>\n",
       "      <td>-0.708333</td>\n",
       "      <td>1.592605</td>\n",
       "      <td>4</td>\n",
       "    </tr>\n",
       "    <tr>\n",
       "      <th>11</th>\n",
       "      <td>0.027003</td>\n",
       "      <td>0.004246</td>\n",
       "      <td>0.002999</td>\n",
       "      <td>8.083261e-04</td>\n",
       "      <td>7</td>\n",
       "      <td>10</td>\n",
       "      <td>{'min_samples_leaf': 7, 'n_estimators': 10}</td>\n",
       "      <td>-3.031170</td>\n",
       "      <td>0.193800</td>\n",
       "      <td>0.772167</td>\n",
       "      <td>-0.688401</td>\n",
       "      <td>1.673330</td>\n",
       "      <td>3</td>\n",
       "    </tr>\n",
       "    <tr>\n",
       "      <th>12</th>\n",
       "      <td>0.197502</td>\n",
       "      <td>0.006330</td>\n",
       "      <td>0.007843</td>\n",
       "      <td>2.143367e-04</td>\n",
       "      <td>7</td>\n",
       "      <td>100</td>\n",
       "      <td>{'min_samples_leaf': 7, 'n_estimators': 100}</td>\n",
       "      <td>-3.126027</td>\n",
       "      <td>-0.013943</td>\n",
       "      <td>0.782068</td>\n",
       "      <td>-0.785967</td>\n",
       "      <td>1.686281</td>\n",
       "      <td>14</td>\n",
       "    </tr>\n",
       "    <tr>\n",
       "      <th>13</th>\n",
       "      <td>0.930955</td>\n",
       "      <td>0.006719</td>\n",
       "      <td>0.035333</td>\n",
       "      <td>1.695847e-03</td>\n",
       "      <td>7</td>\n",
       "      <td>500</td>\n",
       "      <td>{'min_samples_leaf': 7, 'n_estimators': 500}</td>\n",
       "      <td>-3.137977</td>\n",
       "      <td>0.011848</td>\n",
       "      <td>0.782050</td>\n",
       "      <td>-0.781360</td>\n",
       "      <td>1.695786</td>\n",
       "      <td>13</td>\n",
       "    </tr>\n",
       "    <tr>\n",
       "      <th>14</th>\n",
       "      <td>1.911949</td>\n",
       "      <td>0.021266</td>\n",
       "      <td>0.064880</td>\n",
       "      <td>1.484371e-03</td>\n",
       "      <td>7</td>\n",
       "      <td>1000</td>\n",
       "      <td>{'min_samples_leaf': 7, 'n_estimators': 1000}</td>\n",
       "      <td>-3.137356</td>\n",
       "      <td>0.067016</td>\n",
       "      <td>0.778179</td>\n",
       "      <td>-0.764054</td>\n",
       "      <td>1.703107</td>\n",
       "      <td>11</td>\n",
       "    </tr>\n",
       "  </tbody>\n",
       "</table>\n",
       "</div>"
      ],
      "text/plain": [
       "    mean_fit_time  std_fit_time  mean_score_time  std_score_time  \\\n",
       "0        0.019208      0.001579         0.003001    7.018853e-07   \n",
       "1        0.028335      0.001886         0.002001    1.808772e-06   \n",
       "2        0.237475      0.011719         0.009875    2.653791e-03   \n",
       "3        1.168428      0.031797         0.036003    2.828672e-03   \n",
       "4        2.104190      0.005355         0.069005    2.946623e-03   \n",
       "5        0.010674      0.000471         0.002005    1.988410e-06   \n",
       "6        0.020663      0.000462         0.001670    4.753165e-04   \n",
       "7        0.191679      0.000473         0.007670    4.709287e-04   \n",
       "8        0.978253      0.014689         0.033334    4.727826e-04   \n",
       "9        2.153634      0.175660         0.079227    1.124027e-02   \n",
       "10       0.012998      0.001550         0.001626    4.445035e-04   \n",
       "11       0.027003      0.004246         0.002999    8.083261e-04   \n",
       "12       0.197502      0.006330         0.007843    2.143367e-04   \n",
       "13       0.930955      0.006719         0.035333    1.695847e-03   \n",
       "14       1.911949      0.021266         0.064880    1.484371e-03   \n",
       "\n",
       "   param_min_samples_leaf param_n_estimators  \\\n",
       "0                       3                  5   \n",
       "1                       3                 10   \n",
       "2                       3                100   \n",
       "3                       3                500   \n",
       "4                       3               1000   \n",
       "5                       5                  5   \n",
       "6                       5                 10   \n",
       "7                       5                100   \n",
       "8                       5                500   \n",
       "9                       5               1000   \n",
       "10                      7                  5   \n",
       "11                      7                 10   \n",
       "12                      7                100   \n",
       "13                      7                500   \n",
       "14                      7               1000   \n",
       "\n",
       "                                           params  split0_test_score  \\\n",
       "0      {'min_samples_leaf': 3, 'n_estimators': 5}          -3.222005   \n",
       "1     {'min_samples_leaf': 3, 'n_estimators': 10}          -2.868412   \n",
       "2    {'min_samples_leaf': 3, 'n_estimators': 100}          -3.032036   \n",
       "3    {'min_samples_leaf': 3, 'n_estimators': 500}          -3.043912   \n",
       "4   {'min_samples_leaf': 3, 'n_estimators': 1000}          -3.036245   \n",
       "5      {'min_samples_leaf': 5, 'n_estimators': 5}          -3.416091   \n",
       "6     {'min_samples_leaf': 5, 'n_estimators': 10}          -3.136867   \n",
       "7    {'min_samples_leaf': 5, 'n_estimators': 100}          -3.074856   \n",
       "8    {'min_samples_leaf': 5, 'n_estimators': 500}          -3.037319   \n",
       "9   {'min_samples_leaf': 5, 'n_estimators': 1000}          -3.065503   \n",
       "10     {'min_samples_leaf': 7, 'n_estimators': 5}          -2.914831   \n",
       "11    {'min_samples_leaf': 7, 'n_estimators': 10}          -3.031170   \n",
       "12   {'min_samples_leaf': 7, 'n_estimators': 100}          -3.126027   \n",
       "13   {'min_samples_leaf': 7, 'n_estimators': 500}          -3.137977   \n",
       "14  {'min_samples_leaf': 7, 'n_estimators': 1000}          -3.137356   \n",
       "\n",
       "    split1_test_score  split2_test_score  mean_test_score  std_test_score  \\\n",
       "0            0.108747           0.789362        -0.774632        1.752719   \n",
       "1           -0.033367           0.846219        -0.685187        1.584986   \n",
       "2           -0.027266           0.827173        -0.744043        1.655033   \n",
       "3            0.038848           0.823433        -0.727210        1.669176   \n",
       "4            0.001289           0.822930        -0.737342        1.659817   \n",
       "5            0.152635           0.786359        -0.825699        1.849865   \n",
       "6            0.295860           0.806311        -0.678232        1.750963   \n",
       "7           -0.011420           0.808488        -0.759263        1.671235   \n",
       "8            0.035541           0.812412        -0.729788        1.662208   \n",
       "9            0.059523           0.812649        -0.731110        1.679056   \n",
       "10           0.003621           0.786209        -0.708333        1.592605   \n",
       "11           0.193800           0.772167        -0.688401        1.673330   \n",
       "12          -0.013943           0.782068        -0.785967        1.686281   \n",
       "13           0.011848           0.782050        -0.781360        1.695786   \n",
       "14           0.067016           0.778179        -0.764054        1.703107   \n",
       "\n",
       "    rank_test_score  \n",
       "0                12  \n",
       "1                 2  \n",
       "2                 9  \n",
       "3                 5  \n",
       "4                 8  \n",
       "5                15  \n",
       "6                 1  \n",
       "7                10  \n",
       "8                 6  \n",
       "9                 7  \n",
       "10                4  \n",
       "11                3  \n",
       "12               14  \n",
       "13               13  \n",
       "14               11  "
      ]
     },
     "execution_count": 37,
     "metadata": {},
     "output_type": "execute_result"
    }
   ],
   "source": [
    "clf=GridSearchCV (RandomForestRegressor(), {'n_estimators':[5,10,100,500,1000],'min_samples_leaf':[3,5,7]}, return_train_score=False, cv=3)\n",
    "clf.fit(x_train,y_train)\n",
    "resultscvdf=pd.DataFrame(clf.cv_results_)\n",
    "resultscvdf"
   ]
  },
  {
   "cell_type": "markdown",
   "metadata": {},
   "source": [
    "#### random forest regressor grid search"
   ]
  },
  {
   "cell_type": "code",
   "execution_count": 38,
   "metadata": {},
   "outputs": [
    {
     "data": {
      "text/plain": [
       "[['5000trees , 7minleafsamples', 0.5126732144071678]]"
      ]
     },
     "execution_count": 38,
     "metadata": {},
     "output_type": "execute_result"
    }
   ],
   "source": [
    "forestscores={}\n",
    "noestim=[10,100,500,1000,2500,5000]\n",
    "minsampleaf=[3,5,7,10]\n",
    "\n",
    "for i in noestim:\n",
    "    for j in minsampleaf:\n",
    "       mymodel=RandomForestRegressor(min_samples_leaf=j, n_estimators= i,random_state=26)\n",
    "       mymodel.fit(x_train,y_train)\n",
    "       mypred=mymodel.predict(x_test)\n",
    "       forestscores[str(i)+'trees , '+str(j)+'minleafsamples']=mymodel.score(x_test,y_test)\n",
    " \n",
    "#forestscores\n",
    "[[keys,values] for keys,values in forestscores.items() if values == max(forestscores.values())]"
   ]
  },
  {
   "cell_type": "markdown",
   "metadata": {},
   "source": [
    "#### support vector regressor grid search"
   ]
  },
  {
   "cell_type": "code",
   "execution_count": 39,
   "metadata": {},
   "outputs": [],
   "source": [
    "cvalues=[0.01,0.1,1,2,4,16,64,128,256,512]\n",
    "gamvalues=[0.01,0.1,1,10,50,100,250]\n",
    "coef0values=[0,0.5,1,2]"
   ]
  },
  {
   "cell_type": "code",
   "execution_count": 40,
   "metadata": {},
   "outputs": [
    {
     "data": {
      "text/plain": [
       "[['C =16', 0.963307533966351]]"
      ]
     },
     "execution_count": 40,
     "metadata": {},
     "output_type": "execute_result"
    }
   ],
   "source": [
    "#linear kernel\n",
    "linscores={}\n",
    "for j in cvalues:\n",
    "       mymodel=SVR(kernel='linear', C=j)\n",
    "       mymodel.fit(x_train,y_train)\n",
    "       mypred=mymodel.predict(x_test)\n",
    "       linscores['C ='+str(j)]=mymodel.score(x_test,y_test)\n",
    "        \n",
    "#linscores\n",
    "[[param,score] for param,score in linscores.items() if score == max(linscores.values())]"
   ]
  },
  {
   "cell_type": "code",
   "execution_count": 41,
   "metadata": {},
   "outputs": [
    {
     "data": {
      "text/plain": [
       "[['C=0.1,r=2', 0.9629801580586748]]"
      ]
     },
     "execution_count": 41,
     "metadata": {},
     "output_type": "execute_result"
    }
   ],
   "source": [
    "#poly kernel\n",
    "polyscores={}\n",
    "for i in cvalues:\n",
    "    for j in coef0values:\n",
    "        #for k in gamvalues:\n",
    "           mymodel=SVR(kernel='poly', C=i, coef0=j)\n",
    "           mymodel.fit(x_train,y_train)\n",
    "           mypred=mymodel.predict(x_test)\n",
    "           polyscores['C='+str(i)+',r='+str(j)]=mymodel.score(x_test,y_test)\n",
    "        \n",
    "#polyscores  +',gam'+str(k) , gamma=k\n",
    "[[param,score] for param,score in polyscores.items() if score == max(polyscores.values())]"
   ]
  },
  {
   "cell_type": "code",
   "execution_count": 42,
   "metadata": {},
   "outputs": [
    {
     "data": {
      "text/plain": [
       "[['C=512,gamma=0.1', 0.9596605534267306]]"
      ]
     },
     "execution_count": 42,
     "metadata": {},
     "output_type": "execute_result"
    }
   ],
   "source": [
    "#rbf kernel\n",
    "rbfscores={}\n",
    "for i in cvalues:\n",
    "    for j in gamvalues:\n",
    "       mymodel=SVR(kernel='rbf', C=i, gamma=j)\n",
    "       mymodel.fit(x_train,y_train)\n",
    "       mypred=mymodel.predict(x_test)\n",
    "       rbfscores['C='+str(i)+',gamma='+str(j)]=mymodel.score(x_test,y_test)\n",
    "        \n",
    "#rbfscores\n",
    "[[param,score] for param,score in rbfscores.items() if score == max(rbfscores.values())]"
   ]
  },
  {
   "cell_type": "markdown",
   "metadata": {},
   "source": [
    "#### multiple linear regression"
   ]
  },
  {
   "cell_type": "code",
   "execution_count": 43,
   "metadata": {},
   "outputs": [
    {
     "data": {
      "text/plain": [
       "0.9617682505291721"
      ]
     },
     "execution_count": 43,
     "metadata": {},
     "output_type": "execute_result"
    }
   ],
   "source": [
    "mymodel=LinearRegression()\n",
    "mymodel.fit(x_train,y_train)\n",
    "y_pred=mymodel.predict(x_test)\n",
    "r2_score(y_pred,y_test)"
   ]
  },
  {
   "cell_type": "markdown",
   "metadata": {},
   "source": [
    "#### regularized linear regression"
   ]
  },
  {
   "cell_type": "code",
   "execution_count": 44,
   "metadata": {},
   "outputs": [],
   "source": [
    "from sklearn.linear_model import Ridge\n",
    "from sklearn.linear_model import Lasso"
   ]
  },
  {
   "cell_type": "code",
   "execution_count": 45,
   "metadata": {},
   "outputs": [
    {
     "name": "stdout",
     "output_type": "stream",
     "text": [
      "[['ridge_alpha 1e-06', 0.9617682424481947]]\n",
      "[['lasso_alpha 0.01', 0.9625339762473051]]\n"
     ]
    }
   ],
   "source": [
    "alphas=[1e-06,0.00001,0.0001,0.001,0.01,0.1,1,10,100]\n",
    "ridgescores={}\n",
    "lassoscores={}\n",
    "\n",
    "for i in alphas:\n",
    " reg_model=Ridge(alpha=i)\n",
    " reg_model.fit(x_train,y_train)\n",
    " y_pred=reg_model.predict(x_test)\n",
    " ridgescores['ridge_alpha '+str(i)]=(r2_score(y_pred,y_test))\n",
    "\n",
    "for i in alphas:\n",
    " reg_model=Lasso(alpha=i)\n",
    " reg_model.fit(x_train,y_train)\n",
    " y_pred=reg_model.predict(x_test)\n",
    " lassoscores['lasso_alpha '+str(i)]=(r2_score(y_pred,y_test))\n",
    "\n",
    "print([[param,score] for param,score in ridgescores.items() if score == max(ridgescores.values())])\n",
    "print([[param,score] for param,score in lassoscores.items() if score == max(lassoscores.values())])"
   ]
  },
  {
   "cell_type": "raw",
   "metadata": {},
   "source": []
  },
  {
   "cell_type": "markdown",
   "metadata": {},
   "source": [
    "#### predicting for the final day"
   ]
  },
  {
   "cell_type": "raw",
   "metadata": {},
   "source": [
    "among all the models,polynomial kernel gives the highest accuracy for closing price of yahoo.  \n",
    "we can use C=128, coef0=2 and degree=3 for predicting other prices also.\n",
    "It won't be very highly accurate as train data will change. still, lets go with it.\n",
    "but a linear regression model can also be used."
   ]
  },
  {
   "cell_type": "code",
   "execution_count": 46,
   "metadata": {},
   "outputs": [],
   "source": [
    "answers={'open':[],'close':[],'low':[],'high':[]}"
   ]
  },
  {
   "cell_type": "code",
   "execution_count": 47,
   "metadata": {},
   "outputs": [],
   "source": [
    "for i in target:\n",
    " x_train=x.loc[0:norows-1-testsize][:].copy()\n",
    " x_test=x.loc[norows-testsize :][:].copy()\n",
    " y_train=df.loc[0:norows-1-testsize][i].copy()\n",
    " y_test=df.loc[norows-testsize :norows-2][i].copy()\n",
    "    \n",
    " model=SVR(kernel='poly', C=128, coef0=2)\n",
    " model.fit(x_train,y_train)\n",
    " answers[i].append(model.predict(testdata).item())"
   ]
  },
  {
   "cell_type": "code",
   "execution_count": 48,
   "metadata": {},
   "outputs": [
    {
     "data": {
      "text/html": [
       "<div>\n",
       "<style scoped>\n",
       "    .dataframe tbody tr th:only-of-type {\n",
       "        vertical-align: middle;\n",
       "    }\n",
       "\n",
       "    .dataframe tbody tr th {\n",
       "        vertical-align: top;\n",
       "    }\n",
       "\n",
       "    .dataframe thead th {\n",
       "        text-align: right;\n",
       "    }\n",
       "</style>\n",
       "<table border=\"1\" class=\"dataframe\">\n",
       "  <thead>\n",
       "    <tr style=\"text-align: right;\">\n",
       "      <th></th>\n",
       "      <th>open</th>\n",
       "      <th>close</th>\n",
       "      <th>low</th>\n",
       "      <th>high</th>\n",
       "    </tr>\n",
       "  </thead>\n",
       "  <tbody>\n",
       "    <tr>\n",
       "      <th>0</th>\n",
       "      <td>37.875894</td>\n",
       "      <td>36.849492</td>\n",
       "      <td>37.45323</td>\n",
       "      <td>38.088654</td>\n",
       "    </tr>\n",
       "  </tbody>\n",
       "</table>\n",
       "</div>"
      ],
      "text/plain": [
       "        open      close       low       high\n",
       "0  37.875894  36.849492  37.45323  38.088654"
      ]
     },
     "execution_count": 48,
     "metadata": {},
     "output_type": "execute_result"
    }
   ],
   "source": [
    "pd.DataFrame(answers)"
   ]
  },
  {
   "cell_type": "code",
   "execution_count": null,
   "metadata": {},
   "outputs": [],
   "source": []
  }
 ],
 "metadata": {
  "kernelspec": {
   "display_name": "Python 3",
   "language": "python",
   "name": "python3"
  },
  "language_info": {
   "codemirror_mode": {
    "name": "ipython",
    "version": 3
   },
   "file_extension": ".py",
   "mimetype": "text/x-python",
   "name": "python",
   "nbconvert_exporter": "python",
   "pygments_lexer": "ipython3",
   "version": "3.7.6"
  }
 },
 "nbformat": 4,
 "nbformat_minor": 2
}
